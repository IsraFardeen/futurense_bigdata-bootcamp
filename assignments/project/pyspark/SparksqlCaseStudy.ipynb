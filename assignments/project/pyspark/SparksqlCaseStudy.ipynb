{
 "cells": [
  {
   "cell_type": "code",
   "execution_count": null,
   "metadata": {
    "application/vnd.databricks.v1+cell": {
     "cellMetadata": {
      "byteLimit": 2048000,
      "rowLimit": 10000
     },
     "inputWidgets": {},
     "nuid": "e6743de0-b8b6-4122-bceb-3c20f1cea2e5",
     "showTitle": false,
     "title": ""
    }
   },
   "outputs": [
    {
     "name": "stdout",
     "output_type": "stream",
     "text": [
      "root\n",
      " |-- MARKET: string (nullable = true)\n",
      " |-- SERIES: string (nullable = true)\n",
      " |-- SYMBOL: string (nullable = true)\n",
      " |-- SECURITY: string (nullable = true)\n",
      " |-- PREV_CL_PR: float (nullable = true)\n",
      " |-- OPEN_PRICE: float (nullable = true)\n",
      " |-- HIGH_PRICE: float (nullable = true)\n",
      " |-- LOW_PRICE: float (nullable = true)\n",
      " |-- CLOSE_PRICE: float (nullable = true)\n",
      " |-- NET_TRDVAL: float (nullable = true)\n",
      " |-- NET_TRDQTY: float (nullable = true)\n",
      " |-- CORP_IND: integer (nullable = true)\n",
      " |-- TRADES: integer (nullable = true)\n",
      " |-- HI_52_WK: float (nullable = true)\n",
      " |-- LO_52_WK: float (nullable = true)\n",
      "\n",
      "+------+------+----------+-------------------------+----------+----------+----------+---------+-----------+----------+----------+--------+------+--------+--------+\n",
      "|MARKET|SERIES|SYMBOL    |SECURITY                 |PREV_CL_PR|OPEN_PRICE|HIGH_PRICE|LOW_PRICE|CLOSE_PRICE|NET_TRDVAL|NET_TRDQTY|CORP_IND|TRADES|HI_52_WK|LO_52_WK|\n",
      "+------+------+----------+-------------------------+----------+----------+----------+---------+-----------+----------+----------+--------+------+--------+--------+\n",
      "|N     |N1    |IRFC      |BOND 8.00% PA TAX FREE S1|1086.0    |1085.0    |1085.0    |1084.54  |1085.0     |3371959.5 |3108.0    |null    |8     |1194.0  |1050.0  |\n",
      "|N     |N1    |JNPT      |BOND 6.82% PA TAX FREE S1|1001.0    |1007.1    |1015.0    |1007.1   |1015.0     |51370.0   |51.0      |null    |2     |1529.99 |1000.0  |\n",
      "|N     |N1    |NHAI      |BOND 8.20% PA TAX FREE S1|1091.38   |1092.0    |1092.0    |1087.0   |1089.98    |3861145.5 |3544.0    |null    |39    |1140.0  |1045.0  |\n",
      "|N     |N1    |NTPC      |8.41%S-R-NCD SERIES 1A   |1198.99   |1135.0    |1135.0    |1135.0   |1135.0     |113500.0  |100.0     |null    |1     |1275.0  |1022.1  |\n",
      "|N     |N1    |RECLTD    |TAXFREE SEC NCD TR1 S1   |1083.54   |1088.0    |1088.0    |1085.0   |1085.0     |108530.0  |100.0     |null    |2     |1184.8  |1041.0  |\n",
      "|N     |N2    |BRITANNIA |8.00% SEC RED NCD        |33.07     |33.07     |33.2      |32.8     |33.14      |677372.4  |20461.0   |null    |107   |36.0    |29.9    |\n",
      "|N     |N2    |HUDCO     |8.20 NCD05MAR27 FV 1000  |1215.0    |1222.0    |1222.0    |1222.0   |1222.0     |3666.0    |3.0       |null    |2     |1311.0  |1171.0  |\n",
      "|N     |N2    |IIFCL     |8.66% TAX FREE NCD       |1135.0    |1137.0    |1137.0    |1137.0   |1137.0     |4548.0    |4.0       |null    |1     |1390.0  |1101.1  |\n",
      "|N     |N2    |M&MFIN    |9.00% UNSECURED NCD      |1104.0    |1101.98   |1101.98   |1080.05  |1089.43    |423116.5  |388.0     |null    |12    |1229.0  |1049.5  |\n",
      "|N     |N2    |NABARD    |7.64% TAX FREE TRI SRIIB |1238.5    |1239.01   |1239.55   |1237.01  |1238.22    |125060.45 |101.0     |null    |4     |1304.8  |1181.0  |\n",
      "|N     |N2    |NHAI      |BOND 8.30% PA TAX FREE S2|1258.5    |1255.5    |1257.0    |1253.1   |1256.45    |464590.5  |370.0     |null    |6     |1294.9  |1176.0  |\n",
      "|N     |N2    |NTPC      |8.48%S-R-NCD SERIES 2A   |1282.0    |1282.5    |1283.0    |1282.5   |1283.0     |128275.0  |100.0     |null    |2     |1854.0  |1225.0  |\n",
      "|N     |N2    |PCHFL     |SEC RE NCD 8.35% SR.I    |1000.0    |1000.0    |1004.67   |1000.0   |1001.68    |526800.94 |526.0     |null    |17    |1028.0  |981.01  |\n",
      "|N     |N2    |RECLTD    |TAXFREE SEC NCD TR1 S2   |1207.0    |1192.0    |1192.0    |1192.0   |1192.0     |238400.0  |200.0     |null    |1     |1288.0  |1160.0  |\n",
      "|N     |N2    |TATACAPHSG|SEC RED NCD 8.10% SR.I   |1054.21   |1055.01   |1058.0    |1055.0   |1058.0     |1105942.5 |1048.0    |null    |42    |1160.0  |950.0   |\n",
      "|N     |N3    |BRITANNIA |UNSEC RED NCD 5.50%      |29.43     |29.4      |29.7      |29.38    |29.47      |4233218.0 |143810.0  |null    |787   |30.5    |29.0    |\n",
      "|N     |N3    |DHANILOANS|DHANI LOANS & SERV LTD   |1008.0    |1002.0    |1003.0    |1002.0   |1003.0     |78158.0   |78.0      |null    |5     |1030.0  |810.0   |\n",
      "|N     |N3    |HUDCO     |8.10 NCD 05MAR22 FV 1000 |1054.84   |1054.84   |1055.9    |1054.52  |1054.91    |1729096.9 |1639.0    |null    |19    |1320.0  |1000.0  |\n",
      "|N     |N4    |DHANILOANS|DHANI LOANS & SERV LTD   |1020.8    |1022.01   |1022.01   |1022.01  |1022.01    |2044.02   |2.0       |null    |1     |1098.75 |851.0   |\n",
      "|N     |N4    |ERFLNCDI  |SEC RED NCD 9.00% SR. IV |986.0     |988.22    |988.22    |988.22   |988.22     |29646.6   |30.0      |null    |1     |1050.0  |829.95  |\n",
      "+------+------+----------+-------------------------+----------+----------+----------+---------+-----------+----------+----------+--------+------+--------+--------+\n",
      "only showing top 20 rows\n",
      "\n"
     ]
    }
   ],
   "source": [
    "from pyspark.sql import SparkSession\n",
    "data = spark.read.csv(\"/FileStore/tables/sharemarket.csv\",schema='MARKET string, SERIES string, SYMBOL string, SECURITY string, PREV_CL_PR float, OPEN_PRICE float, HIGH_PRICE float,LOW_PRICE float, CLOSE_PRICE float, NET_TRDVAL float,NET_TRDQTY float,CORP_IND int,TRADES int,HI_52_WK float,LO_52_WK float')\n",
    "data.printSchema()\n",
    "data.show(truncate=False)"
   ]
  },
  {
   "cell_type": "code",
   "execution_count": null,
   "metadata": {
    "application/vnd.databricks.v1+cell": {
     "cellMetadata": {
      "byteLimit": 2048000,
      "rowLimit": 10000
     },
     "inputWidgets": {},
     "nuid": "c702c1bd-e3f3-44f2-8cd3-d321248cde19",
     "showTitle": false,
     "title": ""
    }
   },
   "outputs": [
    {
     "name": "stdout",
     "output_type": "stream",
     "text": [
      "+------+------+----------+-------------------------+----------+----------+----------+---------+-----------+----------+----------+------+--------+--------+\n",
      "|MARKET|SERIES|SYMBOL    |SECURITY                 |PREV_CL_PR|OPEN_PRICE|HIGH_PRICE|LOW_PRICE|CLOSE_PRICE|NET_TRDVAL|NET_TRDQTY|TRADES|HI_52_WK|LO_52_WK|\n",
      "+------+------+----------+-------------------------+----------+----------+----------+---------+-----------+----------+----------+------+--------+--------+\n",
      "|N     |N1    |IRFC      |BOND 8.00% PA TAX FREE S1|1086.0    |1085.0    |1085.0    |1084.54  |1085.0     |3371959.5 |3108.0    |8     |1194.0  |1050.0  |\n",
      "|N     |N1    |JNPT      |BOND 6.82% PA TAX FREE S1|1001.0    |1007.1    |1015.0    |1007.1   |1015.0     |51370.0   |51.0      |2     |1529.99 |1000.0  |\n",
      "|N     |N1    |NHAI      |BOND 8.20% PA TAX FREE S1|1091.38   |1092.0    |1092.0    |1087.0   |1089.98    |3861145.5 |3544.0    |39    |1140.0  |1045.0  |\n",
      "|N     |N1    |NTPC      |8.41%S-R-NCD SERIES 1A   |1198.99   |1135.0    |1135.0    |1135.0   |1135.0     |113500.0  |100.0     |1     |1275.0  |1022.1  |\n",
      "|N     |N1    |RECLTD    |TAXFREE SEC NCD TR1 S1   |1083.54   |1088.0    |1088.0    |1085.0   |1085.0     |108530.0  |100.0     |2     |1184.8  |1041.0  |\n",
      "|N     |N2    |BRITANNIA |8.00% SEC RED NCD        |33.07     |33.07     |33.2      |32.8     |33.14      |677372.4  |20461.0   |107   |36.0    |29.9    |\n",
      "|N     |N2    |HUDCO     |8.20 NCD05MAR27 FV 1000  |1215.0    |1222.0    |1222.0    |1222.0   |1222.0     |3666.0    |3.0       |2     |1311.0  |1171.0  |\n",
      "|N     |N2    |IIFCL     |8.66% TAX FREE NCD       |1135.0    |1137.0    |1137.0    |1137.0   |1137.0     |4548.0    |4.0       |1     |1390.0  |1101.1  |\n",
      "|N     |N2    |M&MFIN    |9.00% UNSECURED NCD      |1104.0    |1101.98   |1101.98   |1080.05  |1089.43    |423116.5  |388.0     |12    |1229.0  |1049.5  |\n",
      "|N     |N2    |NABARD    |7.64% TAX FREE TRI SRIIB |1238.5    |1239.01   |1239.55   |1237.01  |1238.22    |125060.45 |101.0     |4     |1304.8  |1181.0  |\n",
      "|N     |N2    |NHAI      |BOND 8.30% PA TAX FREE S2|1258.5    |1255.5    |1257.0    |1253.1   |1256.45    |464590.5  |370.0     |6     |1294.9  |1176.0  |\n",
      "|N     |N2    |NTPC      |8.48%S-R-NCD SERIES 2A   |1282.0    |1282.5    |1283.0    |1282.5   |1283.0     |128275.0  |100.0     |2     |1854.0  |1225.0  |\n",
      "|N     |N2    |PCHFL     |SEC RE NCD 8.35% SR.I    |1000.0    |1000.0    |1004.67   |1000.0   |1001.68    |526800.94 |526.0     |17    |1028.0  |981.01  |\n",
      "|N     |N2    |RECLTD    |TAXFREE SEC NCD TR1 S2   |1207.0    |1192.0    |1192.0    |1192.0   |1192.0     |238400.0  |200.0     |1     |1288.0  |1160.0  |\n",
      "|N     |N2    |TATACAPHSG|SEC RED NCD 8.10% SR.I   |1054.21   |1055.01   |1058.0    |1055.0   |1058.0     |1105942.5 |1048.0    |42    |1160.0  |950.0   |\n",
      "|N     |N3    |BRITANNIA |UNSEC RED NCD 5.50%      |29.43     |29.4      |29.7      |29.38    |29.47      |4233218.0 |143810.0  |787   |30.5    |29.0    |\n",
      "|N     |N3    |DHANILOANS|DHANI LOANS & SERV LTD   |1008.0    |1002.0    |1003.0    |1002.0   |1003.0     |78158.0   |78.0      |5     |1030.0  |810.0   |\n",
      "|N     |N3    |HUDCO     |8.10 NCD 05MAR22 FV 1000 |1054.84   |1054.84   |1055.9    |1054.52  |1054.91    |1729096.9 |1639.0    |19    |1320.0  |1000.0  |\n",
      "|N     |N4    |DHANILOANS|DHANI LOANS & SERV LTD   |1020.8    |1022.01   |1022.01   |1022.01  |1022.01    |2044.02   |2.0       |1     |1098.75 |851.0   |\n",
      "|N     |N4    |ERFLNCDI  |SEC RED NCD 9.00% SR. IV |986.0     |988.22    |988.22    |988.22   |988.22     |29646.6   |30.0      |1     |1050.0  |829.95  |\n",
      "+------+------+----------+-------------------------+----------+----------+----------+---------+-----------+----------+----------+------+--------+--------+\n",
      "only showing top 20 rows\n",
      "\n"
     ]
    }
   ],
   "source": [
    "data = data.drop('CORP_IND')\n",
    "data.show(truncate=False)"
   ]
  },
  {
   "cell_type": "code",
   "execution_count": null,
   "metadata": {
    "application/vnd.databricks.v1+cell": {
     "cellMetadata": {
      "byteLimit": 2048000,
      "rowLimit": 10000
     },
     "inputWidgets": {},
     "nuid": "6496adb8-6964-4d60-9236-6e512267d5a4",
     "showTitle": false,
     "title": ""
    }
   },
   "outputs": [],
   "source": [
    "data.createOrReplaceTempView('sharemarket')"
   ]
  },
  {
   "cell_type": "code",
   "execution_count": null,
   "metadata": {
    "application/vnd.databricks.v1+cell": {
     "cellMetadata": {
      "byteLimit": 2048000,
      "rowLimit": 10000
     },
     "inputWidgets": {},
     "nuid": "1ce52529-c343-41f8-96f8-5a142932ec51",
     "showTitle": false,
     "title": ""
    }
   },
   "outputs": [
    {
     "name": "stdout",
     "output_type": "stream",
     "text": [
      "+----------------------+\n",
      "|count(DISTINCT SERIES)|\n",
      "+----------------------+\n",
      "|                    53|\n",
      "+----------------------+\n",
      "\n"
     ]
    }
   ],
   "source": [
    "#1) Display number of series present in the data\n",
    "spark.sql('select count(distinct SERIES) from sharemarket').show()"
   ]
  },
  {
   "cell_type": "code",
   "execution_count": null,
   "metadata": {
    "application/vnd.databricks.v1+cell": {
     "cellMetadata": {
      "byteLimit": 2048000,
      "rowLimit": 10000
     },
     "inputWidgets": {},
     "nuid": "204babbe-8d68-4880-a872-f1b61a1445b5",
     "showTitle": false,
     "title": ""
    }
   },
   "outputs": [
    {
     "name": "stdout",
     "output_type": "stream",
     "text": [
      "+------+\n",
      "|SERIES|\n",
      "+------+\n",
      "|    NL|\n",
      "|    NK|\n",
      "|    NJ|\n",
      "|    NA|\n",
      "|    N3|\n",
      "|    NH|\n",
      "|    NE|\n",
      "|    NC|\n",
      "|    ND|\n",
      "|    N7|\n",
      "|    N8|\n",
      "|    N2|\n",
      "|    N5|\n",
      "|    N4|\n",
      "|    N6|\n",
      "|    NI|\n",
      "|    N1|\n",
      "|    NG|\n",
      "|    N9|\n",
      "|    NB|\n",
      "+------+\n",
      "only showing top 20 rows\n",
      "\n"
     ]
    }
   ],
   "source": [
    "#2) Display series present in the data\n",
    "spark.sql('select distinct SERIES from sharemarket').show()"
   ]
  },
  {
   "cell_type": "code",
   "execution_count": null,
   "metadata": {
    "application/vnd.databricks.v1+cell": {
     "cellMetadata": {
      "byteLimit": 2048000,
      "rowLimit": 10000
     },
     "inputWidgets": {},
     "nuid": "b0e56b2c-3589-40a8-b997-e278ac429889",
     "showTitle": false,
     "title": ""
    }
   },
   "outputs": [
    {
     "name": "stdout",
     "output_type": "stream",
     "text": [
      "+------+------------------+\n",
      "|SERIES|             total|\n",
      "+------+------------------+\n",
      "|    YH|  5119.02001953125|\n",
      "|    NS|  5154.60009765625|\n",
      "|    NL| 17007.05029296875|\n",
      "|    NK|  9671.98974609375|\n",
      "|    Z4|  5144.85009765625|\n",
      "|    NJ|  21451.9697265625|\n",
      "|    NX|  1625.47998046875|\n",
      "|    YS|            5670.0|\n",
      "|    NW|   5444.2001953125|\n",
      "|    NA|  99490.4482421875|\n",
      "|    Z8|            5191.0|\n",
      "|    YA|  1369.97998046875|\n",
      "|    NP|           6465.75|\n",
      "|    N3|10440.390243530273|\n",
      "|    NH| 23478.92041015625|\n",
      "|    NE|  84056.6083984375|\n",
      "|    NC| 71805.37841796875|\n",
      "|    NQ|1560.0999755859375|\n",
      "|    Z1|  6376.10986328125|\n",
      "|    NR| 6161.440185546875|\n",
      "+------+------------------+\n",
      "only showing top 20 rows\n",
      "\n"
     ]
    }
   ],
   "source": [
    "#3) find the sum of all the prices in each series\n",
    "#spark.sql('select SERIES,sum(PREV_CL_PR),sum(OPEN_PRICE),sum(HIGH_PRICE),sum(LOW_PRICE),sum(CLOSE_PRICE) from sharemarket group by SERIES').show()\n",
    "spark.sql('select SERIES,sum(PREV_CL_PR+OPEN_PRICE+HIGH_PRICE+LOW_PRICE+CLOSE_PRICE) as total from sharemarket group by SERIES').show()"
   ]
  },
  {
   "cell_type": "code",
   "execution_count": null,
   "metadata": {
    "application/vnd.databricks.v1+cell": {
     "cellMetadata": {
      "byteLimit": 2048000,
      "rowLimit": 10000
     },
     "inputWidgets": {},
     "nuid": "4e614ed2-74ca-4ea5-a120-4c3259c3db03",
     "showTitle": false,
     "title": ""
    }
   },
   "outputs": [
    {
     "name": "stdout",
     "output_type": "stream",
     "text": [
      "+-------------------------+------+\n",
      "|SECURITY                 |SERIES|\n",
      "+-------------------------+------+\n",
      "|8.75% TAX FREE TR I S IIB|N6    |\n",
      "+-------------------------+------+\n",
      "\n"
     ]
    }
   ],
   "source": [
    "#4) Display security,series with highest net trade value\n",
    "spark.sql(\"select SECURITY,SERIES from sharemarket where NET_TRDVAL >=(select max(NET_TRDVAL) from sharemarket)\").show(truncate=False)"
   ]
  },
  {
   "cell_type": "code",
   "execution_count": null,
   "metadata": {
    "application/vnd.databricks.v1+cell": {
     "cellMetadata": {
      "byteLimit": 2048000,
      "rowLimit": 10000
     },
     "inputWidgets": {},
     "nuid": "e1ba0de8-05df-444c-9bbf-61e5ecfd5152",
     "showTitle": false,
     "title": ""
    }
   },
   "outputs": [],
   "source": [
    "#5) Display series whose sum of all prices greater than net trade value\n",
    "spark.sql(\"SELECT SERIES, (OPEN_PRICE+HIGH_PRICE+LOW_PRICE+CLOSE_PRICE) TOTAL_PRICE ,(NET_TRDVAL) TOTAL_TRADE FROM SALES WHERE OPEN_PRICE+HIGH_PRICE+LOW_PRICE+CLOSE_PRICE>NET_TRDVAL AND NET_TRDVAL IS NOT NULL\").show()"
   ]
  },
  {
   "cell_type": "code",
   "execution_count": null,
   "metadata": {
    "application/vnd.databricks.v1+cell": {
     "cellMetadata": {
      "byteLimit": 2048000,
      "rowLimit": 10000
     },
     "inputWidgets": {},
     "nuid": "97f29c4e-598c-445a-886b-9e7a82368e09",
     "showTitle": false,
     "title": ""
    }
   },
   "outputs": [
    {
     "name": "stdout",
     "output_type": "stream",
     "text": [
      "+------+\n",
      "|SERIES|\n",
      "+------+\n",
      "|    N3|\n",
      "+------+\n",
      "\n"
     ]
    }
   ],
   "source": [
    "#6) Display series with highest net trade quantity\n",
    "spark.sql('select SERIES from sharemarket where NET_TRDQTY>=(select max(NET_TRDQTY) from sharemarket)').show()"
   ]
  },
  {
   "cell_type": "code",
   "execution_count": null,
   "metadata": {
    "application/vnd.databricks.v1+cell": {
     "cellMetadata": {
      "byteLimit": 2048000,
      "rowLimit": 10000
     },
     "inputWidgets": {},
     "nuid": "f235f7be-22f7-42b4-9567-6298b87b1a67",
     "showTitle": false,
     "title": ""
    }
   },
   "outputs": [
    {
     "name": "stdout",
     "output_type": "stream",
     "text": [
      "+---------------+---------------+\n",
      "|max(OPEN_PRICE)|min(OPEN_PRICE)|\n",
      "+---------------+---------------+\n",
      "|        11450.0|          13.75|\n",
      "+---------------+---------------+\n",
      "\n"
     ]
    }
   ],
   "source": [
    "#7 Display highest and lowest open price\n",
    "spark.sql('select max(OPEN_PRICE),min(OPEN_PRICE) from sharemarket').show()"
   ]
  },
  {
   "cell_type": "code",
   "execution_count": null,
   "metadata": {
    "application/vnd.databricks.v1+cell": {
     "cellMetadata": {
      "byteLimit": 2048000,
      "rowLimit": 10000
     },
     "inputWidgets": {},
     "nuid": "8e620085-bd77-458c-9e80-543c9fa0834c",
     "showTitle": false,
     "title": ""
    }
   },
   "outputs": [
    {
     "name": "stdout",
     "output_type": "stream",
     "text": [
      "+------+\n",
      "|series|\n",
      "+------+\n",
      "|    N2|\n",
      "|    N3|\n",
      "|    N7|\n",
      "+------+\n",
      "\n"
     ]
    }
   ],
   "source": [
    "#8 Display series which have trades more than 80\n",
    "spark.sql('select series from sharemarket where TRADES>80').show()"
   ]
  },
  {
   "cell_type": "code",
   "execution_count": null,
   "metadata": {
    "application/vnd.databricks.v1+cell": {
     "cellMetadata": {
      "byteLimit": 2048000,
      "rowLimit": 10000
     },
     "inputWidgets": {},
     "nuid": "26ca21d9-6df4-4fc9-9b3c-64f59b0e0a2e",
     "showTitle": false,
     "title": ""
    }
   },
   "outputs": [
    {
     "name": "stdout",
     "output_type": "stream",
     "text": [
      "+------+------------------+\n",
      "|SERIES|      DIFF_VAL_QNT|\n",
      "+------+------------------+\n",
      "|    YH|     61270.1015625|\n",
      "|    NS|      354013.90625|\n",
      "|    NL|  1581525.31640625|\n",
      "|    NK|      1010121.6875|\n",
      "|    Z4|     36956.6015625|\n",
      "|    NJ|         7421503.0|\n",
      "|    NX|  12728.7197265625|\n",
      "|    YS|           79055.0|\n",
      "|    NW|          203456.5|\n",
      "|    NA|       3331953.875|\n",
      "|    Z8|          332530.0|\n",
      "|    YA|    2354.919921875|\n",
      "|    NP|   316500.19921875|\n",
      "|    N3|       5894945.875|\n",
      "|    NH|       1686244.625|\n",
      "|    NE|     2538813.90625|\n",
      "|    NC|    2505038.828125|\n",
      "|    NQ|            6280.0|\n",
      "|    Z1|       202640.3125|\n",
      "|    NR|461379.49377441406|\n",
      "+------+------------------+\n",
      "only showing top 20 rows\n",
      "\n"
     ]
    }
   ],
   "source": [
    "#Display the difference between net trade value and net trade quantity for each series\n",
    "spark.sql('select SERIES, sum(NET_TRDVAL)-sum(NET_TRDQTY) as DIFF_VAL_QNT from sharemarket group by SERIES').show()"
   ]
  },
  {
   "cell_type": "code",
   "execution_count": null,
   "metadata": {
    "application/vnd.databricks.v1+cell": {
     "cellMetadata": {},
     "inputWidgets": {},
     "nuid": "1219211f-aabe-458f-a7ac-ff15797a43d8",
     "showTitle": false,
     "title": ""
    }
   },
   "outputs": [],
   "source": []
  }
 ],
 "metadata": {
  "application/vnd.databricks.v1+notebook": {
   "dashboards": [],
   "language": "python",
   "notebookMetadata": {
    "pythonIndentUnit": 4
   },
   "notebookName": "SparksqlCaseStudy",
   "notebookOrigID": 2289275952871786,
   "widgets": {}
  },
  "language_info": {
   "name": "python"
  }
 },
 "nbformat": 4,
 "nbformat_minor": 0
}
